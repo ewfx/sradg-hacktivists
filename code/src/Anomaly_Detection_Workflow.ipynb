{
 "cells": [
  {
   "cell_type": "code",
   "execution_count": 3,
   "metadata": {},
   "outputs": [],
   "source": [
    "import json\n",
    "import os\n",
    "import pandas as pd\n",
    "from langgraph.graph import Graph\n",
    "from IPython.display import Image, display\n",
    "from langchain_groq import ChatGroq\n",
    "from datetime import datetime\n",
    "from dotenv import load_dotenv"
   ]
  },
  {
   "cell_type": "code",
   "execution_count": null,
   "metadata": {},
   "outputs": [],
   "source": [
    "load_dotenv(dotenv_path=\"py.env\")\n",
    "llm=ChatGroq(model=\"llama3-8b-8192\",api_key=os.environ.get(\"GROQ_API_KEY\"))"
   ]
  },
  {
   "cell_type": "code",
   "execution_count": 7,
   "metadata": {},
   "outputs": [],
   "source": [
    "def get_real_time_historical_data(start_indicator):\n",
    "    if start_indicator != 'START':\n",
    "        return\n",
    "    real_time_data_df=pd.read_excel(\"C:/Arnab/Technology_Hackathon_2025/Hacktivists_Technology_Hackathon_2025/GL_IHub_Real_Time_Data.xlsx\")\n",
    "    historical_data_df=pd.read_excel(\"C:/Arnab/Technology_Hackathon_2025/Hacktivists_Technology_Hackathon_2025/GL_IHub_Historical_Data.xlsx\")\n",
    "    real_time_data_df['Balance Difference']=real_time_data_df['GL Balance']-real_time_data_df['IHub Balance']\n",
    "    real_time_data_df['Match Status'] = real_time_data_df['Balance Difference'].apply(lambda x: 'Match' if abs(x) <= 1 else 'Break')\n",
    "    real_time_data_df['Anomaly']='No'\n",
    "    real_time_data_df['Break Category']=''\n",
    "    real_time_data_df['Comments']=''\n",
    "    historical_data_df['DateTime'] = historical_data_df['As of Date'].apply(lambda x: datetime.strptime(x , '%m/%d/%Y'))\n",
    "    historical_data_df['Balance Difference']=historical_data_df['GL Balance']-historical_data_df['IHub Balance']\n",
    "    historical_data_df['Match Status'] = historical_data_df['Balance Difference'].apply(lambda x: 'Match' if abs(x) <= 1 else 'Break')\n",
    "    return {\n",
    "        'real_time_data_df': real_time_data_df,\n",
    "        'historical_data_df': historical_data_df\n",
    "    }  "
   ]
  },
  {
   "cell_type": "code",
   "execution_count": 8,
   "metadata": {},
   "outputs": [],
   "source": [
    "def call_llm_for_comments(balance_obj):\n",
    "    delimiter= \"##############################################################################################\"\n",
    "    system_prompt = f\"\"\"\n",
    "    You are a helpful assistant and you are efficient in providing comments based on balance differences and break category.\n",
    "    Please consider the following input json and return an output json with the key \\\"comments\\\".\n",
    "    {balance_obj}\n",
    "    Regarding the format of the output json, please follow the instructions mentioned below.\n",
    "    {delimiter}\n",
    "    Instruction 1: Please send only the output json with the key \\\"comments\\\" without any unnecessary description.\n",
    "    Instruction 2: Please make sure that the response starts with a left brace and ends with a right brace. \n",
    "    Instruction 3: There should be no character before the left brace and after the right brace.\n",
    "    {delimiter}\n",
    "    \n",
    "    For coming up with the comments, please keep the following rules in mind.\n",
    "    {delimiter}\n",
    "    Rule 1: If the value of 'break_catogory' key is 'ANOMALY_INCONSISTENT_VARIATION' then generate the following comment\n",
    "    \\\"Inconsistent variations in outstanding balances\\\"\n",
    "    Rule 2: If the value of 'balance_difference' key is positive and the value of 'break_catogory' key is 'ANOMALY_SPIKE_FALL' then generate the following comment\n",
    "    \\\"Huge spike in outstanding balances\\\" \n",
    "    Rule 3: If the value of 'balance_difference' key is negative and the value of 'break_catogory' key is 'ANOMALY_SPIKE_FALL' then generate the following comment\n",
    "    \\\"Huge fall in outstanding balances\\\"\n",
    "    Rule 4: If the value of 'break_catogory' key is 'IN_SYNC' then generate the following comment  \n",
    "    \\\"Outstanding balancs are in line with previous months\\\"\n",
    "    Rule 5: If the value of 'break_catogory' key is 'CONSISTENT_VARIATION' then generate the following comment\n",
    "    \\\"Consistent increase or decrease in outstanding balances\\\" \n",
    "    {delimiter}\n",
    "    \"\"\"\n",
    "    # sys_msg=SystemMessage(content=system_prompt)\n",
    "    llm_response = llm.invoke(system_prompt).content\n",
    "    # display(llm_response)\n",
    "    llm_response = llm_response[llm_response.index('{'):llm_response.index('}')+1]\n",
    "    # display(llm_response)\n",
    "    llm_response_json = json.loads(llm_response)\n",
    "    return llm_response_json\n"
   ]
  },
  {
   "cell_type": "code",
   "execution_count": 9,
   "metadata": {},
   "outputs": [],
   "source": [
    "def detect_anomaly(data_dict):\n",
    "    real_time_data_df = data_dict['real_time_data_df']\n",
    "    historical_data_df = data_dict['historical_data_df']\n",
    "    for index, real_time_data_row in real_time_data_df.iterrows():\n",
    "       if real_time_data_row['Match Status'] == 'Match':\n",
    "           continue\n",
    "       filtered_historical_data_df = historical_data_df \n",
    "       for field_name in ['Company','Account','AU','Currency','Primary Account']:\n",
    "           filtered_historical_data_df = filtered_historical_data_df[filtered_historical_data_df[field_name] == real_time_data_row[field_name]] \n",
    "       filtered_historical_data_df = filtered_historical_data_df.sort_values(['DateTime'], ascending=False)\n",
    "       historical_data_balance_diffs = []\n",
    "       for i, filtered_historical_data_row in filtered_historical_data_df.iterrows():\n",
    "           if filtered_historical_data_row['Match Status'] == 'Match':\n",
    "               break\n",
    "           historical_data_balance_diffs.append(filtered_historical_data_row['Balance Difference'])\n",
    "       if len(historical_data_balance_diffs) == 0:\n",
    "           real_time_data_df.at[index, 'Anomaly'] = 'Yes'\n",
    "           real_time_data_df.at[index, 'Break Category'] = 'ANOMALY_SPIKE_FALL'\n",
    "       else:\n",
    "           historical_data_balance_diffs.insert(0, real_time_data_row['Balance Difference'])  \n",
    "           sorted_historical_data_balance_diffs = sorted(historical_data_balance_diffs)    \n",
    "           if historical_data_balance_diffs != sorted_historical_data_balance_diffs and historical_data_balance_diffs[::-1] != sorted_historical_data_balance_diffs:\n",
    "               real_time_data_df.at[index, 'Anomaly'] = 'Yes'\n",
    "               real_time_data_df.at[index, 'Break Category'] = 'ANOMALY_INCONSISTENT_VARIATION'\n",
    "           elif len(set(historical_data_balance_diffs)) == 1:\n",
    "               real_time_data_df.at[index, 'Break Category'] = 'IN_SYNC'\n",
    "           else: \n",
    "               real_time_data_df.at[index, 'Break Category'] = 'CONSISTENT_VARIATION'   \n",
    "    return real_time_data_df"
   ]
  },
  {
   "cell_type": "code",
   "execution_count": 10,
   "metadata": {},
   "outputs": [],
   "source": [
    "def add_comments(real_time_data_df):\n",
    "    for index, real_time_data_row in real_time_data_df.iterrows():\n",
    "        if real_time_data_row['Match Status'] == 'Match':\n",
    "           continue\n",
    "        balance_obj = {\n",
    "           'balance_difference': real_time_data_row['Balance Difference'],\n",
    "           'match_status': real_time_data_row['Match Status'],\n",
    "           'break_category': real_time_data_row['Break Category']\n",
    "        }\n",
    "        llm_response = call_llm_for_comments(balance_obj)        \n",
    "        real_time_data_df.at[index, 'Comments'] = llm_response['comments']\n",
    "    return real_time_data_df     "
   ]
  },
  {
   "cell_type": "code",
   "execution_count": 11,
   "metadata": {},
   "outputs": [],
   "source": [
    "def drop_unwanted_columns(real_time_data_df):\n",
    "    real_time_data_df.drop('Break Category', axis=1, inplace=True)\n",
    "    real_time_data_df.reset_index(drop=True, inplace=True)\n",
    "    return real_time_data_df\n"
   ]
  },
  {
   "cell_type": "code",
   "execution_count": 12,
   "metadata": {},
   "outputs": [],
   "source": [
    "def save_real_time_data_with_comments(real_time_data_df):\n",
    "    real_time_data_df.to_excel(\"C:/Arnab/Technology_Hackathon_2025/Hacktivists_Technology_Hackathon_2025/GL_IHub_Real_Time_Data_Modified.xlsx\", index=False)"
   ]
  },
  {
   "cell_type": "code",
   "execution_count": 13,
   "metadata": {},
   "outputs": [],
   "source": [
    "def initialize_and_return_workflow():\n",
    "    workflow=Graph()\n",
    "    workflow.add_node(\"get_real_time_historical_data\",get_real_time_historical_data)\n",
    "    workflow.add_node(\"detect_anomaly\",detect_anomaly)\n",
    "    workflow.add_node(\"add_comments\",add_comments)\n",
    "    workflow.add_node(\"drop_unwanted_columns\",drop_unwanted_columns)\n",
    "    workflow.add_node(\"save_real_time_data_with_comments\",save_real_time_data_with_comments)\n",
    "    workflow.add_edge(\"get_real_time_historical_data\",\"detect_anomaly\")\n",
    "    workflow.add_edge(\"detect_anomaly\",\"add_comments\")\n",
    "    workflow.add_edge(\"add_comments\",\"drop_unwanted_columns\")\n",
    "    workflow.add_edge(\"drop_unwanted_columns\",\"save_real_time_data_with_comments\")\n",
    "    workflow.set_entry_point(\"get_real_time_historical_data\")\n",
    "    workflow.set_finish_point(\"save_real_time_data_with_comments\")\n",
    "    return workflow\n"
   ]
  },
  {
   "cell_type": "code",
   "execution_count": 14,
   "metadata": {},
   "outputs": [],
   "source": [
    "def display_workflow(app):\n",
    "    try:\n",
    "        display(Image(app.get_graph().draw_mermaid_png()))\n",
    "    except Exception as e:\n",
    "        print(e)"
   ]
  },
  {
   "cell_type": "code",
   "execution_count": 15,
   "metadata": {},
   "outputs": [],
   "source": [
    "def start_app():\n",
    "    workflow = initialize_and_return_workflow()\n",
    "    app=workflow.compile()\n",
    "    display_workflow(app)\n",
    "    app.invoke('START')"
   ]
  },
  {
   "cell_type": "code",
   "execution_count": 16,
   "metadata": {},
   "outputs": [
    {
     "data": {
      "image/png": "[encoded data removed]",
      "text/plain": [
       "<IPython.core.display.Image object>"
      ]
     },
     "metadata": {},
     "output_type": "display_data"
    }
   ],
   "source": [
    "start_app()\n"
   ]
  }
 ],
 "metadata": {
  "kernelspec": {
   "display_name": "Python 3",
   "language": "python",
   "name": "python3"
  },
  "language_info": {
   "codemirror_mode": {
    "name": "ipython",
    "version": 3
   },
   "file_extension": ".py",
   "mimetype": "text/x-python",
   "name": "python",
   "nbconvert_exporter": "python",
   "pygments_lexer": "ipython3",
   "version": "3.11.7"
  }
 },
 "nbformat": 4,
 "nbformat_minor": 2
}
